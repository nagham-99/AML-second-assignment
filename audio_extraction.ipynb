{
  "nbformat": 4,
  "nbformat_minor": 0,
  "metadata": {
    "colab": {
      "name": "audio extraction.ipynb",
      "provenance": [],
      "collapsed_sections": []
    },
    "kernelspec": {
      "name": "python3",
      "display_name": "Python 3"
    },
    "language_info": {
      "name": "python"
    }
  },
  "cells": [
    {
      "cell_type": "code",
      "source": [
        "!pip install opensmile"
      ],
      "metadata": {
        "colab": {
          "base_uri": "https://localhost:8080/"
        },
        "id": "kI_KSTXKnOaE",
        "outputId": "e24fc13b-a97a-454a-8485-2a0504ea4b3c"
      },
      "execution_count": 1,
      "outputs": [
        {
          "output_type": "stream",
          "name": "stdout",
          "text": [
            "Collecting opensmile\n",
            "  Downloading opensmile-2.4.1-py3-none-any.whl (4.5 MB)\n",
            "\u001b[K     |████████████████████████████████| 4.5 MB 4.1 MB/s \n",
            "\u001b[?25hCollecting audinterface>=0.7.0\n",
            "  Downloading audinterface-0.8.0-py3-none-any.whl (21 kB)\n",
            "Collecting audobject>=0.6.1\n",
            "  Downloading audobject-0.6.2-py3-none-any.whl (22 kB)\n",
            "Collecting audresample<0.3.0,>=0.1.6\n",
            "  Downloading audresample-0.1.6-py3-none-any.whl (635 kB)\n",
            "\u001b[K     |████████████████████████████████| 635 kB 65.4 MB/s \n",
            "\u001b[?25hCollecting audformat<2.0.0,>=0.10.1\n",
            "  Downloading audformat-0.13.2-py3-none-any.whl (47 kB)\n",
            "\u001b[K     |████████████████████████████████| 47 kB 3.7 MB/s \n",
            "\u001b[?25hCollecting oyaml\n",
            "  Downloading oyaml-1.0-py2.py3-none-any.whl (3.0 kB)\n",
            "Collecting audiofile>=0.4.0\n",
            "  Downloading audiofile-1.0.3-py3-none-any.whl (10 kB)\n",
            "Collecting iso-639\n",
            "  Downloading iso-639-0.4.5.tar.gz (167 kB)\n",
            "\u001b[K     |████████████████████████████████| 167 kB 56.1 MB/s \n",
            "\u001b[?25hCollecting pyyaml>=5.4.1\n",
            "  Downloading PyYAML-6.0-cp37-cp37m-manylinux_2_5_x86_64.manylinux1_x86_64.manylinux_2_12_x86_64.manylinux2010_x86_64.whl (596 kB)\n",
            "\u001b[K     |████████████████████████████████| 596 kB 50.0 MB/s \n",
            "\u001b[?25hRequirement already satisfied: pandas!=1.3.0,!=1.3.1,!=1.3.2,!=1.3.3,<1.4.0,>=1.1.5 in /usr/local/lib/python3.7/dist-packages (from audformat<2.0.0,>=0.10.1->audinterface>=0.7.0->opensmile) (1.1.5)\n",
            "Collecting audeer<2.0.0,>=1.8.0\n",
            "  Downloading audeer-1.17.2-py3-none-any.whl (14 kB)\n",
            "Requirement already satisfied: tqdm in /usr/local/lib/python3.7/dist-packages (from audeer<2.0.0,>=1.8.0->audformat<2.0.0,>=0.10.1->audinterface>=0.7.0->opensmile) (4.62.3)\n",
            "Requirement already satisfied: soundfile in /usr/local/lib/python3.7/dist-packages (from audiofile>=0.4.0->audformat<2.0.0,>=0.10.1->audinterface>=0.7.0->opensmile) (0.10.3.post1)\n",
            "Collecting sox\n",
            "  Downloading sox-1.4.1-py2.py3-none-any.whl (39 kB)\n",
            "Requirement already satisfied: numpy in /usr/local/lib/python3.7/dist-packages (from audiofile>=0.4.0->audformat<2.0.0,>=0.10.1->audinterface>=0.7.0->opensmile) (1.19.5)\n",
            "Requirement already satisfied: python-dateutil>=2.7.3 in /usr/local/lib/python3.7/dist-packages (from pandas!=1.3.0,!=1.3.1,!=1.3.2,!=1.3.3,<1.4.0,>=1.1.5->audformat<2.0.0,>=0.10.1->audinterface>=0.7.0->opensmile) (2.8.2)\n",
            "Requirement already satisfied: pytz>=2017.2 in /usr/local/lib/python3.7/dist-packages (from pandas!=1.3.0,!=1.3.1,!=1.3.2,!=1.3.3,<1.4.0,>=1.1.5->audformat<2.0.0,>=0.10.1->audinterface>=0.7.0->opensmile) (2018.9)\n",
            "Requirement already satisfied: six>=1.5 in /usr/local/lib/python3.7/dist-packages (from python-dateutil>=2.7.3->pandas!=1.3.0,!=1.3.1,!=1.3.2,!=1.3.3,<1.4.0,>=1.1.5->audformat<2.0.0,>=0.10.1->audinterface>=0.7.0->opensmile) (1.15.0)\n",
            "Requirement already satisfied: cffi>=1.0 in /usr/local/lib/python3.7/dist-packages (from soundfile->audiofile>=0.4.0->audformat<2.0.0,>=0.10.1->audinterface>=0.7.0->opensmile) (1.15.0)\n",
            "Requirement already satisfied: pycparser in /usr/local/lib/python3.7/dist-packages (from cffi>=1.0->soundfile->audiofile>=0.4.0->audformat<2.0.0,>=0.10.1->audinterface>=0.7.0->opensmile) (2.21)\n",
            "Building wheels for collected packages: iso-639\n",
            "  Building wheel for iso-639 (setup.py) ... \u001b[?25l\u001b[?25hdone\n",
            "  Created wheel for iso-639: filename=iso_639-0.4.5-py3-none-any.whl size=169061 sha256=c526f5a76d4192c15c1d4b44ef640786809e9ff60bb548b97eb3d1b246f226da\n",
            "  Stored in directory: /root/.cache/pip/wheels/47/60/19/6d020fc92138ed1b113a18271e83ea4b5525fe770cb45b9a2e\n",
            "Successfully built iso-639\n",
            "Installing collected packages: sox, pyyaml, audeer, oyaml, iso-639, audiofile, audresample, audformat, audobject, audinterface, opensmile\n",
            "  Attempting uninstall: pyyaml\n",
            "    Found existing installation: PyYAML 3.13\n",
            "    Uninstalling PyYAML-3.13:\n",
            "      Successfully uninstalled PyYAML-3.13\n",
            "Successfully installed audeer-1.17.2 audformat-0.13.2 audinterface-0.8.0 audiofile-1.0.3 audobject-0.6.2 audresample-0.1.6 iso-639-0.4.5 opensmile-2.4.1 oyaml-1.0 pyyaml-6.0 sox-1.4.1\n"
          ]
        }
      ]
    },
    {
      "cell_type": "code",
      "source": [
        "import numpy as np # linear algebra\n",
        "import pandas as pd \n",
        "import opensmile\n",
        "import IPython\n",
        "import os\n",
        "import matplotlib.pyplot as plt\n",
        "\n",
        "\n",
        "smile = opensmile.Smile(\n",
        "    feature_set=opensmile.FeatureSet.ComParE_2016,\n",
        "    feature_level=opensmile.FeatureLevel.Functionals,\n",
        ")\n",
        "y = smile.process_file('Filename')"
      ],
      "metadata": {
        "id": "wMcxcw8fnREU"
      },
      "execution_count": null,
      "outputs": []
    },
    {
      "cell_type": "code",
      "execution_count": null,
      "metadata": {
        "id": "IHVlSog3RVOa"
      },
      "outputs": [],
      "source": [
        "def process_audio(dir, set, lab):\n",
        "\n",
        "  data = []\n",
        "\n",
        "  result = pd.DataFrame()\n",
        "\n",
        "\n",
        "\n",
        "  print(f'[>] Set: {set} ...')\n",
        "\n",
        "\n",
        "\n",
        "  try:\n",
        "\n",
        "    for sample in os.listdir(dir):\n",
        "\n",
        "      if sample.split('.')[0] in lab[lab['Type'] == set].Filename.tolist():\n",
        "\n",
        "        df = pd.read_csv(f\"MOSI/opensmile_all/{sample}\", delimiter=',', skiprows=range(0, 95))\n",
        "\n",
        "        audio_info = list(df.columns)\n",
        "\n",
        "        # Remove unwanted char\n",
        "        for val in audio_info:\n",
        "\n",
        "          if '.' in val[-4:len(val)]:\n",
        "\n",
        "            audio_info[audio_info.index(val)] = val.replace('.', '')\n",
        "\n",
        "        # To DataFrame\n",
        "\n",
        "        df = pd.DataFrame(np.asarray(audio_info[1:-1]).reshape(1, -1), columns=[f\"F{i}\" for i in range(0, len(audio_info) - 2)])\n",
        "\n",
        "        df.insert(0, 'sentiment', [1 if np.asarray(lab.loc[lab['Filename'] == sample.split('.')[0]]['Sentiment'])[0] == 'positive' else 0 for _ in range(0, len(df))])\n",
        "\n",
        "        # Append to a list\n",
        "\n",
        "        if len(df) != 1:\n",
        "\n",
        "          print(len(df))\n",
        "\n",
        "        data.append(df)\n",
        "\n",
        "    result = pd.concat(data, ignore_index=True)\n",
        "     except Exception as ex:\n",
        "\n",
        "    print(f\"{ex}\")\n",
        "\n",
        "    return -1\n",
        "\n",
        "\n",
        "\n",
        "  # Save samples and labels\n",
        "\n",
        "  X = result.iloc[:, result.columns != 'sentiment']\n",
        "\n",
        "  y = result.iloc[:, result.columns == 'sentiment']\n",
        "\n",
        " \n",
        "\n",
        "  X.to_csv(f'./MOSI/X_audio_{set}.csv')\n",
        "\n",
        "  y.to_csv(f'./MOSI/y_audio_{set}.csv')\n",
        "\n",
        "\n",
        "\n",
        "  return (X, y)"
      ]
    }
  ]
}